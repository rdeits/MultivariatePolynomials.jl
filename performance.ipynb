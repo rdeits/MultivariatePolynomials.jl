{
 "cells": [
  {
   "cell_type": "code",
   "execution_count": 1,
   "metadata": {
    "collapsed": false
   },
   "outputs": [
    {
     "name": "stderr",
     "output_type": "stream",
     "text": [
      "INFO: Recompiling stale cache file /home/rdeits/.julia/lib/v0.5/MultivariatePolynomials.ji for module MultivariatePolynomials.\n"
     ]
    }
   ],
   "source": [
    "using MultivariatePolynomials\n",
    "using MultiPoly\n",
    "using BenchmarkTools"
   ]
  },
  {
   "cell_type": "code",
   "execution_count": 2,
   "metadata": {
    "collapsed": false
   },
   "outputs": [
    {
     "data": {
      "text/plain": [
       "y"
      ]
     },
     "execution_count": 2,
     "metadata": {},
     "output_type": "execute_result"
    }
   ],
   "source": [
    "@polyvar x y"
   ]
  },
  {
   "cell_type": "code",
   "execution_count": 4,
   "metadata": {
    "collapsed": false
   },
   "outputs": [
    {
     "data": {
      "text/plain": [
       "y^3 + 2x^2 + x + y"
      ]
     },
     "execution_count": 4,
     "metadata": {},
     "output_type": "execute_result"
    }
   ],
   "source": [
    "x + y + 2x^2 + y^3"
   ]
  },
  {
   "cell_type": "code",
   "execution_count": 22,
   "metadata": {
    "collapsed": false
   },
   "outputs": [
    {
     "name": "stderr",
     "output_type": "stream",
     "text": [
      "WARNING: Method definition construct_mvp() in module Main at In[19]:2 overwritten at In[22]:2.\n",
      "WARNING: Method definition construct_mp() in module Main at In[19]:7 overwritten at In[22]:7.\n"
     ]
    },
    {
     "data": {
      "text/plain": [
       "construct_mp (generic function with 1 method)"
      ]
     },
     "execution_count": 22,
     "metadata": {},
     "output_type": "execute_result"
    }
   ],
   "source": [
    "function construct_mvp()\n",
    "    @polyvar x y\n",
    "    x + 2y + 3x^2 + 4x*y\n",
    "end\n",
    "\n",
    "function construct_mp()\n",
    "    x, y = generators(MPoly{Float64}, :x, :y)\n",
    "    x + 2y + 3x^2 + 4x*y\n",
    "end"
   ]
  },
  {
   "cell_type": "code",
   "execution_count": 23,
   "metadata": {
    "collapsed": false
   },
   "outputs": [
    {
     "data": {
      "text/plain": [
       "BenchmarkTools.Trial: \n",
       "  memory estimate:  8.48 kb\n",
       "  allocs estimate:  161\n",
       "  --------------\n",
       "  minimum time:     12.012 μs (0.00% GC)\n",
       "  median time:      21.092 μs (0.00% GC)\n",
       "  mean time:        22.043 μs (4.18% GC)\n",
       "  maximum time:     3.149 ms (97.01% GC)\n",
       "  --------------\n",
       "  samples:          10000\n",
       "  evals/sample:     1\n",
       "  time tolerance:   5.00%\n",
       "  memory tolerance: 1.00%"
      ]
     },
     "execution_count": 23,
     "metadata": {},
     "output_type": "execute_result"
    }
   ],
   "source": [
    "@benchmark construct_mvp()"
   ]
  },
  {
   "cell_type": "code",
   "execution_count": 24,
   "metadata": {
    "collapsed": false
   },
   "outputs": [
    {
     "data": {
      "text/plain": [
       "BenchmarkTools.Trial: \n",
       "  memory estimate:  22.20 kb\n",
       "  allocs estimate:  423\n",
       "  --------------\n",
       "  minimum time:     71.867 μs (0.00% GC)\n",
       "  median time:      81.505 μs (0.00% GC)\n",
       "  mean time:        85.099 μs (3.24% GC)\n",
       "  maximum time:     3.413 ms (94.33% GC)\n",
       "  --------------\n",
       "  samples:          10000\n",
       "  evals/sample:     1\n",
       "  time tolerance:   5.00%\n",
       "  memory tolerance: 1.00%"
      ]
     },
     "execution_count": 24,
     "metadata": {},
     "output_type": "execute_result"
    }
   ],
   "source": [
    "@benchmark construct_mp()"
   ]
  },
  {
   "cell_type": "code",
   "execution_count": 27,
   "metadata": {
    "collapsed": false
   },
   "outputs": [
    {
     "name": "stderr",
     "output_type": "stream",
     "text": [
      "WARNING: Method definition eval_mvp(Any) in module Main at In[25]:2 overwritten at In[27]:2.\n",
      "WARNING: Method definition eval_mp(Any) in module Main at In[25]:6 overwritten at In[27]:6.\n"
     ]
    },
    {
     "data": {
      "text/plain": [
       "eval_mp (generic function with 1 method)"
      ]
     },
     "execution_count": 27,
     "metadata": {},
     "output_type": "execute_result"
    }
   ],
   "source": [
    "function eval_mvp(p)\n",
    "    p([1.0, 2.0], MultivariatePolynomials.vars(p))\n",
    "end\n",
    "\n",
    "function eval_mp(p)\n",
    "    evaluate(p, 1.0, 2.0)\n",
    "end"
   ]
  },
  {
   "cell_type": "code",
   "execution_count": 38,
   "metadata": {
    "collapsed": false
   },
   "outputs": [
    {
     "data": {
      "text/plain": [
       "BenchmarkTools.Trial: \n",
       "  memory estimate:  8.38 kb\n",
       "  allocs estimate:  160\n",
       "  --------------\n",
       "  minimum time:     3.370 μs (0.00% GC)\n",
       "  median time:      4.444 μs (0.00% GC)\n",
       "  mean time:        5.820 μs (20.59% GC)\n",
       "  maximum time:     434.055 μs (97.44% GC)\n",
       "  --------------\n",
       "  samples:          10000\n",
       "  evals/sample:     8\n",
       "  time tolerance:   5.00%\n",
       "  memory tolerance: 1.00%"
      ]
     },
     "execution_count": 38,
     "metadata": {},
     "output_type": "execute_result"
    }
   ],
   "source": [
    "p = x + y + 2x^2 + y^3\n",
    "@benchmark eval_mvp($p)"
   ]
  },
  {
   "cell_type": "code",
   "execution_count": 33,
   "metadata": {
    "collapsed": false
   },
   "outputs": [
    {
     "data": {
      "text/plain": [
       "BenchmarkTools.Trial: \n",
       "  memory estimate:  160.00 bytes\n",
       "  allocs estimate:  6\n",
       "  --------------\n",
       "  minimum time:     76.335 ns (0.00% GC)\n",
       "  median time:      88.889 ns (0.00% GC)\n",
       "  mean time:        110.085 ns (17.77% GC)\n",
       "  maximum time:     2.841 μs (95.63% GC)\n",
       "  --------------\n",
       "  samples:          10000\n",
       "  evals/sample:     968\n",
       "  time tolerance:   5.00%\n",
       "  memory tolerance: 1.00%"
      ]
     },
     "execution_count": 33,
     "metadata": {},
     "output_type": "execute_result"
    }
   ],
   "source": [
    "x2, y2 = generators(MPoly{Float64}, :x, :y)\n",
    "@benchmark eval_mp(p2) setup=(\n",
    "p2 = x2 + y2 + 2x2^2 + y2^3\n",
    ")"
   ]
  },
  {
   "cell_type": "code",
   "execution_count": 39,
   "metadata": {
    "collapsed": false
   },
   "outputs": [
    {
     "name": "stdout",
     "output_type": "stream",
     "text": [
      "Variables:\n",
      "  #self#::Base.#zero\n",
      "  t::MultivariatePolynomials.VecPolynomial{Int64}\n",
      "\n",
      "Body:\n",
      "  begin \n",
      "      SSAValue(3) = (Core.ccall)(:jl_alloc_array_1d,(Core.apply_type)(Core.Array,Int64,1)::Type{Array{Int64,1}},(Core.svec)(Core.Any,Core.Int)::SimpleVector,Array{Int64,1},0,0,0)::Array{Int64,1}\n",
      "      SSAValue(2) = $(Expr(:invoke, LambdaInfo for MultivariatePolynomials.MonomialVector(::Array{MultivariatePolynomials.PolyVar,1}, ::Array{Array{Int64,1},1}), :(MultivariatePolynomials.MonomialVector), :((Core.getfield)((Core.getfield)(t,:x)::MultivariatePolynomials.MonomialVector,:vars)::Array{MultivariatePolynomials.PolyVar,1}), :((Core.ccall)(:jl_alloc_array_1d,(Core.apply_type)(Core.Array,Array{Int64,1},1)::Type{Array{Array{Int64,1},1}},(Core.svec)(Core.Any,Core.Int)::SimpleVector,Array{Array{Int64,1},1},0,0,0)::Array{Array{Int64,1},1})))\n",
      "      return $(Expr(:invoke, LambdaInfo for MultivariatePolynomials.VecPolynomial{Int64}(::Array{Int64,1}, ::MultivariatePolynomials.MonomialVector), MultivariatePolynomials.VecPolynomial{Int64}, SSAValue(3), SSAValue(2)))\n",
      "  end::MultivariatePolynomials.VecPolynomial{Int64}\n"
     ]
    }
   ],
   "source": [
    "@code_warntype(zero(p))"
   ]
  },
  {
   "cell_type": "code",
   "execution_count": 47,
   "metadata": {
    "collapsed": false
   },
   "outputs": [
    {
     "name": "stdout",
     "output_type": "stream",
     "text": [
      "Variables:\n",
      "  #self#::MultivariatePolynomials.#evalmap\n",
      "  vars::Array{MultivariatePolynomials.PolyVar,1}\n",
      "  x::Array{Float64,1}\n",
      "  varorder::Array{MultivariatePolynomials.PolyVar,1}\n",
      "  vals::Array{Any,1}\n",
      "  #57::MultivariatePolynomials.##57#58\n",
      "  #temp#@_7::Tuple{Int64,Int64}\n",
      "  i::Int64\n",
      "  var::MultivariatePolynomials.PolyVar\n",
      "  #temp#@_10::Int64\n",
      "  j::Int64\n",
      "  n::Tuple{MultivariatePolynomials.PolyVar,Int64}\n",
      "\n",
      "Body:\n",
      "  begin \n",
      "      SSAValue(0) = MultivariatePolynomials.Any\n",
      "      #57::MultivariatePolynomials.##57#58 = $(Expr(:new, :(MultivariatePolynomials.##57#58)))\n",
      "      SSAValue(1) = #57::MultivariatePolynomials.##57#58\n",
      "      SSAValue(2) = $(Expr(:new, Base.Generator{Array{MultivariatePolynomials.PolyVar,1},MultivariatePolynomials.##57#58}, SSAValue(1), :(vars)))\n",
      "      # meta: location array.jl collect 248\n",
      "      # meta: location array.jl _collect 251\n",
      "      # meta: location generator.jl indices 91\n",
      "      # meta: location abstractarray.jl indices 67\n",
      "      SSAValue(11) = (Base.arraysize)((Core.getfield)(SSAValue(2),:iter)::Array{MultivariatePolynomials.PolyVar,1},1)::Int64\n",
      "      # meta: location tuple.jl map 92\n",
      "      SSAValue(10) = SSAValue(11)\n",
      "      # meta: pop location\n",
      "      # meta: pop location\n",
      "      # meta: pop location\n",
      "      # meta: pop location\n",
      "      # meta: pop location\n",
      "      vals::Array{Any,1} = $(Expr(:invoke, LambdaInfo for copy!(::Array{Any,1}, ::Base.Generator{Array{MultivariatePolynomials.PolyVar,1},MultivariatePolynomials.##57#58}), :(Base.copy!), :((Core.ccall)(:jl_new_array,(Core.apply_type)(Core.Array,Any,1)::Type{Array{Any,1}},(Core.svec)(Core.Any,Core.Any)::SimpleVector,Array{Any,1},0,(Core.tuple)((Base.select_value)((Base.slt_int)(SSAValue(10),0)::Bool,0,SSAValue(10))::Int64)::Tuple{Int64},0)::Array{Any,1}), SSAValue(2))) # line 3:\n",
      "      SSAValue(15) = varorder::Array{MultivariatePolynomials.PolyVar,1}\n",
      "      #temp#@_7::Tuple{Int64,Int64} = (Core.tuple)(1,$(QuoteNode(1)))::Tuple{Int64,Int64}\n",
      "      21: \n",
      "      unless (Base.box)(Base.Bool,(Base.not_int)(((Base.getfield)(#temp#@_7::Tuple{Int64,Int64},2)::Int64 === (Base.box)(Int64,(Base.add_int)((Base.arraylen)(SSAValue(15))::Int64,1)))::Bool)) goto 50\n",
      "      # meta: location iterator.jl next 48\n",
      "      SSAValue(12) = (Base.getfield)(#temp#@_7::Tuple{Int64,Int64},2)::Int64\n",
      "      SSAValue(13) = (Base.arrayref)(SSAValue(15),SSAValue(12))::MultivariatePolynomials.PolyVar\n",
      "      SSAValue(14) = (Base.box)(Int64,(Base.add_int)(SSAValue(12),1))\n",
      "      # meta: pop location\n",
      "      SSAValue(16) = (Core.tuple)((Base.getfield)(#temp#@_7::Tuple{Int64,Int64},1)::Int64,SSAValue(13))::Tuple{Int64,MultivariatePolynomials.PolyVar}\n",
      "      SSAValue(17) = (Core.tuple)((Base.box)(Int64,(Base.add_int)((Base.getfield)(#temp#@_7::Tuple{Int64,Int64},1)::Int64,1)),SSAValue(14))::Tuple{Int64,Int64}\n",
      "      SSAValue(5) = SSAValue(16)\n",
      "      #temp#@_10::Int64 = $(QuoteNode(1))\n",
      "      SSAValue(18) = (Base.getfield)(SSAValue(5),1)::UNION{INT64,MULTIVARIATEPOLYNOMIALS.POLYVAR}\n",
      "      SSAValue(19) = (Base.box)(Int64,(Base.add_int)(1,1))\n",
      "      i::Int64 = SSAValue(18)\n",
      "      #temp#@_10::Int64 = SSAValue(19)\n",
      "      SSAValue(20) = (Base.getfield)(SSAValue(5),2)::UNION{INT64,MULTIVARIATEPOLYNOMIALS.POLYVAR}\n",
      "      SSAValue(21) = (Base.box)(Int64,(Base.add_int)(2,1))\n",
      "      var::MultivariatePolynomials.PolyVar = SSAValue(20)\n",
      "      #temp#@_10::Int64 = SSAValue(21)\n",
      "      #temp#@_7::Tuple{Int64,Int64} = SSAValue(17) # line 4:\n",
      "      j::Int64 = $(Expr(:invoke, LambdaInfo for findnext(::Array{MultivariatePolynomials.PolyVar,1}, ::MultivariatePolynomials.PolyVar, ::Int64), :(Base.findnext), :(vars), :(var), 1)) # line 7:\n",
      "      unless (Base.slt_int)(0,j::Int64)::Bool goto 48 # line 8:\n",
      "      SSAValue(8) = (Base.arrayref)(x::Array{Float64,1},i::Int64)::Float64\n",
      "      (Core.arrayset)(vals::Array{Any,1},SSAValue(8),j::Int64)::Array{Any,1}\n",
      "      48: \n",
      "      goto 21\n",
      "      50:  # line 11:\n",
      "      return vals::Array{Any,1}\n",
      "  end::Array{Any,1}\n"
     ]
    }
   ],
   "source": [
    "@code_warntype(MultivariatePolynomials.evalmap(MultivariatePolynomials.vars(p), [1.0, 2.0], [x, y]))"
   ]
  },
  {
   "cell_type": "code",
   "execution_count": 37,
   "metadata": {
    "collapsed": false
   },
   "outputs": [
    {
     "name": "stdout",
     "output_type": "stream",
     "text": [
      "Variables:\n",
      "  p::MultivariatePolynomials.VecPolynomial{Int64}\n",
      "  x::Array{Float64,1}\n",
      "  varorder::Array{MultivariatePolynomials.PolyVar,1}\n",
      "  vals::Array{Any,1}\n",
      "  q::ANY\n",
      "  #temp#::Int64\n",
      "  t::MultivariatePolynomials.Term{Int64}\n",
      "\n",
      "Body:\n",
      "  begin \n",
      "      vals::Array{Any,1} = $(Expr(:invoke, LambdaInfo for evalmap(::Array{MultivariatePolynomials.PolyVar,1}, ::Array{Float64,1}, ::Array{MultivariatePolynomials.PolyVar,1}), :(MultivariatePolynomials.evalmap), :((Core.getfield)((Core.getfield)(p,:x)::MultivariatePolynomials.MonomialVector,:vars)::Array{MultivariatePolynomials.PolyVar,1}), :(x), :(varorder))) # line 39:\n",
      "      # meta: location /home/rdeits/.julia/v0.5/MultivariatePolynomials/src/poly.jl zero 5\n",
      "      SSAValue(5) = (Core.ccall)(:jl_alloc_array_1d,(Core.apply_type)(Core.Array,Int64,1)::Type{Array{Int64,1}},(Core.svec)(Core.Any,Core.Int)::SimpleVector,Array{Int64,1},0,0,0)::Array{Int64,1}\n",
      "      SSAValue(4) = $(Expr(:invoke, LambdaInfo for MultivariatePolynomials.MonomialVector(::Array{MultivariatePolynomials.PolyVar,1}, ::Array{Array{Int64,1},1}), :(MultivariatePolynomials.MonomialVector), :((Core.getfield)((Core.getfield)(p,:x)::MultivariatePolynomials.MonomialVector,:vars)::Array{MultivariatePolynomials.PolyVar,1}), :((Core.ccall)(:jl_alloc_array_1d,(Core.apply_type)(Core.Array,Array{Int64,1},1)::Type{Array{Array{Int64,1},1}},(Core.svec)(Core.Any,Core.Int)::SimpleVector,Array{Array{Int64,1},1},0,0,0)::Array{Array{Int64,1},1})))\n",
      "      # meta: pop location\n",
      "      q::ANY = $(Expr(:invoke, LambdaInfo for MultivariatePolynomials.VecPolynomial{Int64}(::Array{Int64,1}, ::MultivariatePolynomials.MonomialVector), MultivariatePolynomials.VecPolynomial{Int64}, SSAValue(5), SSAValue(4))) # line 40:\n",
      "      #temp#::Int64 = $(QuoteNode(1))\n",
      "      10: \n",
      "      unless (Base.box)(Base.Bool,(Base.not_int)((Base.slt_int)((Base.arraylen)((Core.getfield)(p::MultivariatePolynomials.VecPolynomial{Int64},:a)::Array{Int64,1})::Int64,#temp#::Int64)::Bool)) goto 20\n",
      "      SSAValue(6) = $(Expr(:invoke, LambdaInfo for getindex(::MultivariatePolynomials.VecPolynomial{Int64}, ::Int64), :(MultivariatePolynomials.getindex), :(p), :(#temp#)))\n",
      "      SSAValue(7) = (Base.box)(Int64,(Base.add_int)(#temp#::Int64,1))\n",
      "      t::MultivariatePolynomials.Term{Int64} = SSAValue(6)\n",
      "      #temp#::Int64 = SSAValue(7) # line 41:\n",
      "      q::ANY = (q::ANY + $(Expr(:invoke, LambdaInfo for termeval(::MultivariatePolynomials.Term{Int64}, ::Array{Any,1}), :(MultivariatePolynomials.termeval), :(t), :(vals))))::ANY\n",
      "      18: \n",
      "      goto 10\n",
      "      20:  # line 43:\n",
      "      return q::ANY\n",
      "  end::ANY\n"
     ]
    }
   ],
   "source": [
    "p = x + y + 2x^2 + y^3\n",
    "@code_warntype(p([1.0, 2.0], [x, y]))"
   ]
  },
  {
   "cell_type": "code",
   "execution_count": null,
   "metadata": {
    "collapsed": true
   },
   "outputs": [],
   "source": []
  }
 ],
 "metadata": {
  "kernelspec": {
   "display_name": "Julia 0.5.0",
   "language": "julia",
   "name": "julia-0.5"
  },
  "language_info": {
   "file_extension": ".jl",
   "mimetype": "application/julia",
   "name": "julia",
   "version": "0.5.0"
  }
 },
 "nbformat": 4,
 "nbformat_minor": 1
}
